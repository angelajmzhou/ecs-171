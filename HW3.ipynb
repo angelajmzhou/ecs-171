{
 "cells": [
  {
   "cell_type": "markdown",
   "id": "329de2fb",
   "metadata": {},
   "source": [
    "#### Homework3\n",
    "Please explain clearly and include your entire computational work when needed. Should you include any code, please make sure to provide additional comments to explain your solution. "
   ]
  },
  {
   "cell_type": "markdown",
   "id": "037db7a3",
   "metadata": {},
   "source": [
    "Q1 (30 points) Hyper-parameter Tuning: Provide your coding for this exercise. Your code should run without error and the output should be correct based on your assumptions. \n",
    "- Create a dummy dataset with 3 input features (X) and a numeric output variable (y). Your daatset should have 300 data points. The train:test split is 75:25. \n",
    "- Standardize the input features. \n",
    "- Construct a 3-layer neural network with 2 neurons in the hidden layer and one neuron in the output layer. Use Relu as the activation function in the hidden layer. Use Sigmoid as the activation function in the output layer. \n",
    "- At this step, you are to use grid search to perform hyper-parameter tuning based on regularization and regularization parameter, momentum term, and batch size. For each paramter, try 2 different values. Refer to \"lec11-grid-search.ipynb\" as a reference. You are not allowed to copy-paste the code to solve this assignment. Just use it to learn what to do. Use SGD as your optimization technique. \n",
    "- In your code, report which subset of hyper-parameters give the best model. Then using the best hyper-parameters that you reported, visualize the MSE loss on train and test data over multiple epochs (the number of epochs depends on model convergence). \n",
    "\n",
    "Note: Hyperparameter tuning takes a lot of time to execute. Make sure that you choose the appropriate number of each hyperparameter (preferably 3 of each), and that you allocate enough time to execute your code."
   ]
  },
  {
   "cell_type": "markdown",
   "id": "df2a7294",
   "metadata": {},
   "source": [
    "Q2- (30 points) Given the information below, use Naïve Bayes to determine whether File 6 belongs to class label \"Spam\" or \"Ham\" given its features. Answering following questions clearly and accurately. Provide your computational work. \n",
    "\n",
    "\n",
    "![Generated Dataset](tbl1.jpg)\n",
    "\n",
    "\n",
    "- What are the prior probabilities P(Spam), P(Ham)? \n",
    "- Compute the required conditional probabilitues corresponding to the parameters of the model by filling the table below.\n",
    "\n",
    "\n",
    "![Generated Dataset](tbl2.jpg)\n",
    "\n",
    "\n",
    "\n",
    "- What is the probability of File 6 being a Spam? What is the probability of File 6 being a Ham? What can you conclude about the category of File 6? Justify your answer. "
   ]
  },
  {
   "cell_type": "markdown",
   "id": "e716ef5d",
   "metadata": {},
   "source": [
    "Q3- (6 points) A patient with a positive test wants to know how probable it is to have flu. Find the probability given the information below and provide your computational work. \n",
    "Prior probability: P(not flu)=0.15\n",
    "Likelihood: P(positive│ flu)=0.85\n",
    "Evidence: P(negative)=0.25\n"
   ]
  },
  {
   "cell_type": "markdown",
   "id": "3b6c8314",
   "metadata": {},
   "source": [
    "Q4- (8 points) Imagine you are tasked with developing a binary classification model to classify emails as either \"spam\" or \"not spam\" based on their content. The observations in the dataset cover several aspects listed in the following table: \n",
    "\n",
    "\n",
    "![Generated Dataset](tbl3.jpg)\n",
    "\n",
    "You have two different approaches in mind: Naive Bayes classification and Bayesian networks. Answer the following question in the context of this email classification (as “spam” or “not spam”): \n",
    "Discuss the assumptions in Naïve Bayes and Bayesian Network algorithms, as well as advantages and disadvantages of using Naïve Bayes and Bayesian Network classification. Your answer should address the following points: \n",
    "-\tWhat aspects of the problem make Naïve Bayes classification suitable or unsuitable? \n",
    "-\tSimilarly, analyze the suitability of using Bayesian networks for the email classification problem and indicate what unique characteristics of Bayesian networks make them a potentially good or bad choice for this task? \n",
    "-\tDiscuss these methods in terms of their computational efficiency and classification accuracy, considering the features listed in the above table. \n",
    "Include your answer in a table with the following layout:\n",
    "\n",
    "\n",
    "![Generated Dataset](tbl4.jpg)\n"
   ]
  },
  {
   "cell_type": "markdown",
   "id": "f5505484",
   "metadata": {},
   "source": [
    "Q5- (6 points) Given the following probability table, build a Naïve Bayes classifier using the Discriminant function. Can this classifier accurately predict if a patient is healthy/not-healthy based on the Test results? (e.g., can a positive test result indicate with high confidence that a patient has flu? How about a negative test result?) Show your mathematical work with proper explanation. Please note that P(Healthy) = 0.25. \n",
    "![Generated Dataset](tbl5.jpg)"
   ]
  },
  {
   "cell_type": "markdown",
   "id": "e127590e",
   "metadata": {},
   "source": [
    "Q6-(Optional Question- 8 extra points based on the completeness of the answer) Based on the optional document \"Lec12-MultivariateDistributions.pdf\", describe how conditional probabilities are computed in training a Bayesian Network model when the random variables are continuous. Provide an example.  "
   ]
  }
 ],
 "metadata": {
  "kernelspec": {
   "display_name": "Python 3 (ipykernel)",
   "language": "python",
   "name": "python3"
  },
  "language_info": {
   "codemirror_mode": {
    "name": "ipython",
    "version": 3
   },
   "file_extension": ".py",
   "mimetype": "text/x-python",
   "name": "python",
   "nbconvert_exporter": "python",
   "pygments_lexer": "ipython3",
   "version": "3.12.4"
  }
 },
 "nbformat": 4,
 "nbformat_minor": 5
}
