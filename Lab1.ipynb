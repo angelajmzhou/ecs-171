{
  "cells": [
    {
      "cell_type": "markdown",
      "metadata": {
        "id": "view-in-github",
        "colab_type": "text"
      },
      "source": [
        "<a href=\"https://colab.research.google.com/github/angelajmzhou/ecs-171/blob/main/Lab1.ipynb\" target=\"_parent\"><img src=\"https://colab.research.google.com/assets/colab-badge.svg\" alt=\"Open In Colab\"/></a>"
      ]
    },
    {
      "cell_type": "markdown",
      "id": "04a5dd47",
      "metadata": {
        "id": "04a5dd47"
      },
      "source": [
        "Lab1: Complete the TODO parts in the following code.\n",
        "- Using California Housing Dataset from sklearn, select input attributes 1,3,4  as the input features.\n",
        "- Using K-fold cross validation technique (https://scikit-learn.org/stable/modules/generated/sklearn.model_selection.KFold.html), complete the implementation to train a regression model and report performance merics when asked in the following code.\n",
        "- For multiple degrees of model complexity (i.e., degree of polynomial in this exercise) in a for-loop, obtain the model with the minimum reducible_error, polynomial degree, and run the obtained model on the test data. For this part,you should use the split the data into train and test by [75:25] rate and report mse of the final model on test data.\n",
        "- Analyse the results of model performance according to different degrees of polynomial and the number of folds used. You can manipulate the code and share your analysis in terms of the performance of the model (mse and total error), such as for instnace which degree of the model complexity (in relation to the polynomial order) would give a better model? Feel free to include other analysis about the generated models in relation to their performance results. You can event plot the results to support your analysis."
      ]
    },
    {
      "cell_type": "code",
      "execution_count": 21,
      "id": "589fec24",
      "metadata": {
        "colab": {
          "base_uri": "https://localhost:8080/"
        },
        "id": "589fec24",
        "outputId": "5b0ab926-8765-4957-8a44-48e281b7d17f"
      },
      "outputs": [
        {
          "output_type": "stream",
          "name": "stdout",
          "text": [
            "Variance: 0.6159, Bias2: 1.1592, Total error: 1.7751\n",
            "Variance: 0.6857, Bias2: 1.2147, Total error: 1.9004\n",
            "Variance: 0.8001, Bias2: 1.4449, Total error: 2.2450\n",
            "Variance: 0.4341, Bias2: 1.1848, Total error: 1.6190\n",
            "Variance: 0.7587, Bias2: 1.4722, Total error: 2.2309\n",
            "model number: 3.000000 total error :1.618951\n",
            "Best Model Values: Variance: 0.6780, Bias2: 1.3232, Total error: 2.0012\n",
            "Degree: 1 MSE: 0.6668315328738224\n",
            "Variance: 1.4212, Bias2: 1.1390, Total error: 2.5602\n",
            "Variance: 0.6013, Bias2: 1.1999, Total error: 1.8012\n",
            "Variance: 0.8027, Bias2: 1.4435, Total error: 2.2462\n",
            "Variance: 0.5257, Bias2: 1.1828, Total error: 1.7085\n",
            "Variance: 0.8059, Bias2: 1.4748, Total error: 2.2808\n",
            "model number: 3.000000 total error :1.708497\n",
            "Best Model Values: Variance: 1.0122, Bias2: 1.3234, Total error: 2.3356\n",
            "Degree: 2 MSE: 0.915999395114274\n",
            "Variance: 11.4957, Bias2: 1.1280, Total error: 12.6237\n",
            "Variance: 0.5895, Bias2: 1.1955, Total error: 1.7849\n",
            "Variance: 0.9781, Bias2: 1.4401, Total error: 2.4183\n",
            "Variance: 0.5374, Bias2: 1.1802, Total error: 1.7175\n",
            "Variance: 0.8490, Bias2: 1.4749, Total error: 2.3240\n",
            "model number: 3.000000 total error :1.717509\n",
            "Best Model Values: Variance: 0.7383, Bias2: 1.3232, Total error: 2.0615\n",
            "Degree: 3 MSE: 0.6138538129916054\n",
            "Variance: 1749.0026, Bias2: 1.3864, Total error: 1750.3890\n",
            "Variance: 0.5950, Bias2: 1.1899, Total error: 1.7849\n",
            "Variance: 1.0413, Bias2: 1.4397, Total error: 2.4810\n",
            "Variance: 0.5600, Bias2: 1.1775, Total error: 1.7376\n",
            "Variance: 0.8850, Bias2: 1.4750, Total error: 2.3600\n",
            "model number: 3.000000 total error :1.737571\n",
            "Best Model Values: Variance: 36.2225, Bias2: 1.3295, Total error: 37.5520\n",
            "Degree: 4 MSE: 36.15437669331703\n",
            "Variance: 421853.5240, Bias2: 189.4010, Total error: 422042.9250\n",
            "Variance: 0.6051, Bias2: 1.1880, Total error: 1.7931\n",
            "Variance: 1.2661, Bias2: 1.4394, Total error: 2.7055\n",
            "Variance: 1.1446, Bias2: 1.1801, Total error: 2.3247\n",
            "Variance: 0.9058, Bias2: 1.4742, Total error: 2.3800\n",
            "model number: 1.000000 total error :1.793138\n",
            "Best Model Values: Variance: 100.8985, Bias2: 1.3409, Total error: 102.2394\n",
            "Degree: 5 MSE: 100.88074011625004\n"
          ]
        }
      ],
      "source": [
        "import numpy as np\n",
        "from sklearn.model_selection import KFold\n",
        "from sklearn.linear_model import LinearRegression\n",
        "from sklearn.model_selection import train_test_split\n",
        "from sklearn.metrics import mean_squared_error\n",
        "from sklearn.preprocessing import PolynomialFeatures\n",
        "from sklearn.datasets import fetch_california_housing\n",
        "\n",
        "def polynomial_regression(degree, X, y, folds, test_size=0.25, random_state=None):\n",
        "    # Define number of folds for cross-validation\n",
        "    kf = KFold(folds)\n",
        "\n",
        "    # Initialize lists to store results for variance, bias2s, total_error, and models\n",
        "    # TODO\n",
        "    variance_list = []\n",
        "    bias2s_list = []\n",
        "    total_error = []\n",
        "    models = []\n",
        "\n",
        "    # Set the polynomial degree of the model\n",
        "    poly_features = PolynomialFeatures(degree)\n",
        "    X_poly = poly_features.fit_transform(X)\n",
        "\n",
        "    # Perform cross-validation\n",
        "    for train_index, test_index in kf.split(X_poly):\n",
        "        # Split data into training and testing sets for this fold\n",
        "        X_train, X_test = X_poly[train_index], X_poly[test_index]\n",
        "        y_train, y_test = y[train_index], y[test_index]\n",
        "\n",
        "        # Fit polynomial regression model\n",
        "        model = LinearRegression()\n",
        "        model.fit(X_train, y_train)\n",
        "\n",
        "        # Make predictions on the test set\n",
        "        y_pred = model.predict(X_test)\n",
        "\n",
        "        # Calculate variance and Bias^2 for this fold\n",
        "        variance = np.mean(((y_pred)-np.mean(y_pred))**2)\n",
        "        bias2 = np.mean(((np.mean(y_pred)- y_test)) ** 2)\n",
        "\n",
        "        # Append results to lists\n",
        "        variance_list.append(variance)\n",
        "        bias2s_list.append(bias2)\n",
        "        total_error.append((bias2+variance))\n",
        "        models.append(model)\n",
        "\n",
        "        # Print results  including variance, Bias^2 and the total_error for this fold.\n",
        "        print(\"Variance: {:.4f}, Bias2: {:.4f}, Total error: {:.4f}\".format(variance, bias2, bias2 + variance))\n",
        "\n",
        "    # print the total_error of the best model\n",
        "    min_error_index = np.argmin(total_error)\n",
        "    best_model = models[min_error_index]\n",
        "    print(\"model number: {:1f} total error :{:4f}\".format(min_error_index, total_error[min_error_index]))\n",
        "\n",
        "    # Testing the final model on the test data\n",
        "    X_train, X_test, y_train, y_test = train_test_split(X_poly, y, test_size=test_size, random_state=42)\n",
        "    # Obtain the predictions on the test data\n",
        "    best_model.fit(X_train, y_train)\n",
        "    y_pred = best_model.predict(X_test)\n",
        "    variance = np.mean(((y_pred)-np.mean(y_pred))**2)\n",
        "    bias2 = np.mean(((np.mean(y_pred)- y_test)) ** 2)\n",
        "    print(\"Best Model Values: Variance: {:.4f}, Bias2: {:.4f}, Total error: {:.4f}\".format(variance, bias2, bias2 + variance))\n",
        "    # Calculate the mean squared error (MSE) on the test data\n",
        "    mse = mean_squared_error(y_test, y_pred)\n",
        "    return mse , best_model\n",
        "\n",
        "\n",
        "\n",
        "\n",
        "\n",
        "\n",
        "# Example usage: load California Housing Dataset and select the first, third, and forth attributes as input features in X\n",
        "# TODO\n",
        "housing_data = fetch_california_housing()\n",
        "X = housing_data.data[:, [0, 2, 3]] #: means all rows, [0,2,3] means these specific columns\n",
        "y = housing_data.target\n",
        "\n",
        "# Set the target variable -- what goes into y, ie what we have to predict.\n",
        "\n",
        "degrees = range(1, 6)  # Try polynomial degrees from 1 to 5\n",
        "\n",
        "for degree in degrees:\n",
        "    mse, best_model = polynomial_regression(degree, X, y, folds=5, random_state=42)\n",
        "    print(\"Degree:\", degree, \"MSE:\", mse)\n",
        "# Try degrees from 1 to 5 and in a loop, report mse of the best model trained using k-fold cross validation and print(\"Degree:\", degree, \"MSE:\", mse)\n"
      ]
    },
    {
      "cell_type": "markdown",
      "id": "8ed6024d-1023-4c9b-abae-28b2528b3306",
      "metadata": {
        "id": "8ed6024d-1023-4c9b-abae-28b2528b3306"
      },
      "source": [
        "#ANALYSIS\n",
        "**Analyse the results of model performance according to different degrees of polynomial and the number of folds used. You can manipulate the code and share your analysis in terms of the performance of the model (mse and total error),\n",
        "such as for instnace which degree of the model complexity (in relation to the polynomial order) would give a better model? Feel free to include other analysis about the generated models in relation to their performance results.\n",
        "You can event plot the results to support your analysis.**\n",
        "\n",
        "\n"
      ]
    },
    {
      "cell_type": "markdown",
      "source": [
        "One interesting pattern I noticed with the default k-fold validation function settings was that the first split in each degree would have significantly higher variance and bias compared to the subsequent splits, exponentially so for the higher degrees. However, when I set the shuffle parameter to true, that problem went away, indicating that the first segment of data had a significant amount of outliers. Although shuffling the folds helped with the first fold, it resulted in higher error throughout the other folds because the outliers were now distributed more evenly. Thus, I set shuffle to false again to prevent the outliers from affecting the other folds (although EDA would typically prune those values). Analyzing these results, the best model (purely by the metric of MSE) was the polynomial model of degree 3 [0.667], followed closely by the model of degree 1 [0.614]. However, looking at the metric of total error (variance + bias squared) calculated from the test split results, the degree 1 polynomial model slightly edged out the degree 3 polynomial model for the top spot, with a total error of 2.0012 compared to 2.0615. These results indicate that the relationship between the input data and target values is on the simpler side, and adding more degrees would lead to overfitting. Although the total error is lower for the one-degree model, the bias squared is the same for both, meaning the average model prediction is about the same distance from the ground truth. The difference between the two total errors thus solely originates from the variance, which only provides information on model complexity and the variability of its predictions, which naturally increases as the model becomes more complicated. Therefore, since the difference in total error can solely be attributed to the higher complexity of the three-degree model, with little bearing on the actual reliability of the model, the lower MSE of the three-degree model in comparison to the one-degree model leads me to believe that it is the best polynomial model for this dataset.\n",
        "\n"
      ],
      "metadata": {
        "id": "9cTdTVOvC6dx"
      },
      "id": "9cTdTVOvC6dx"
    }
  ],
  "metadata": {
    "kernelspec": {
      "display_name": "Python 3 (ipykernel)",
      "language": "python",
      "name": "python3"
    },
    "language_info": {
      "codemirror_mode": {
        "name": "ipython",
        "version": 3
      },
      "file_extension": ".py",
      "mimetype": "text/x-python",
      "name": "python",
      "nbconvert_exporter": "python",
      "pygments_lexer": "ipython3",
      "version": "3.12.4"
    },
    "colab": {
      "provenance": [],
      "include_colab_link": true
    }
  },
  "nbformat": 4,
  "nbformat_minor": 5
}