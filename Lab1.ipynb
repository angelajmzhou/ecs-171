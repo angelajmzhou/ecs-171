{
 "cells": [
  {
   "cell_type": "markdown",
   "id": "04a5dd47",
   "metadata": {},
   "source": [
    "Lab1: Complete the TODO parts in the following code. \n",
    "- Using California Housing Dataset from sklearn, select input attributes 1,3,4  as the input features. \n",
    "- Using K-fold cross validation technique (https://scikit-learn.org/stable/modules/generated/sklearn.model_selection.KFold.html), complete the implementation to train a regression model and report performance merics when asked in the following code. \n",
    "- For multiple degrees of model complexity (i.e., degree of polynomial in this exercise) in a for-loop, obtain the model with the minimum reducible_error, polynomial degree, and run the obtained model on the test data. For this part,you should use the split the data into train and test by [75:25] rate and report mse of the final model on test data. \n",
    "- Analyse the results of model performance according to different degrees of polynomial and the number of folds used. You can manipulate the code and share your analysis in terms of the performance of the model (mse and total error), such as for instnace which degree of the model complexity (in relation to the polynomial order) would give a better model? Feel free to include other analysis about the generated models in relation to their performance results. You can event plot the results to support your analysis. "
   ]
  },
  {
   "cell_type": "code",
   "execution_count": 19,
   "id": "d71fba2e-18be-486c-a018-db773f36a04f",
   "metadata": {},
   "outputs": [
    {
     "ename": "TypeError",
     "evalue": "'NoneType' object is not callable",
     "output_type": "error",
     "traceback": [
      "\u001b[0;31m---------------------------------------------------------------------------\u001b[0m",
      "\u001b[0;31mTypeError\u001b[0m                                 Traceback (most recent call last)",
      "Cell \u001b[0;32mIn[19], line 10\u001b[0m\n\u001b[1;32m      7\u001b[0m \u001b[38;5;28;01mfrom\u001b[39;00m \u001b[38;5;21;01msklearn\u001b[39;00m\u001b[38;5;21;01m.\u001b[39;00m\u001b[38;5;21;01mpreprocessing\u001b[39;00m \u001b[38;5;28;01mimport\u001b[39;00m PolynomialFeatures\n\u001b[1;32m      8\u001b[0m \u001b[38;5;28;01mfrom\u001b[39;00m \u001b[38;5;21;01msklearn\u001b[39;00m\u001b[38;5;21;01m.\u001b[39;00m\u001b[38;5;21;01mdatasets\u001b[39;00m \u001b[38;5;28;01mimport\u001b[39;00m fetch_california_housing\n\u001b[0;32m---> 10\u001b[0m data \u001b[38;5;241m=\u001b[39m \u001b[38;5;28mprint\u001b[39m(fetch_california_housing()\u001b[38;5;241m.\u001b[39mframe())\n",
      "\u001b[0;31mTypeError\u001b[0m: 'NoneType' object is not callable"
     ]
    }
   ],
   "source": [
    "import numpy as np\n",
    "import pandas as pd\n",
    "from sklearn.model_selection import KFold\n",
    "from sklearn.linear_model import LinearRegression\n",
    "from sklearn.model_selection import train_test_split\n",
    "from sklearn.metrics import mean_squared_error\n",
    "from sklearn.preprocessing import PolynomialFeatures\n",
    "from sklearn.datasets import fetch_california_housing\n"
   ]
  },
  {
   "cell_type": "code",
   "execution_count": null,
   "id": "589fec24",
   "metadata": {},
   "outputs": [],
   "source": [
    "import numpy as np\n",
    "from sklearn.model_selection import KFold\n",
    "from sklearn.linear_model import LinearRegression\n",
    "from sklearn.model_selection import train_test_split\n",
    "from sklearn.metrics import mean_squared_error\n",
    "from sklearn.preprocessing import PolynomialFeatures\n",
    "from sklearn.datasets import fetch_california_housing\n",
    "\n",
    "def polynomial_regression(degree, X, y, folds, test_size=0.25, random_state=None):\n",
    "    # Define number of folds for cross-validation\n",
    "    kf = KFold(folds)\n",
    "\n",
    "    # Initialize lists to store results for variance, bias2s, total_error, and models\n",
    "    # TODO\n",
    "    variance_list = []\n",
    "    bias2s_list = []\n",
    "    total_error = []\n",
    "    models_list = []\n",
    "\n",
    "    # Set the polynomial degree of the model\n",
    "    poly_features = PolynomialFeatures(degree)\n",
    "    X_poly = poly_features.fit_transform(X)\n",
    "\n",
    "    # Perform cross-validation\n",
    "    for train_index, test_index in kf.split(X_poly):\n",
    "        # Split data into training and testing sets for this fold\n",
    "        X_train, X_test = X_poly[train_index], X_poly[test_index]\n",
    "        y_train, y_test = y[train_index], y[test_index]\n",
    "\n",
    "        # Fit polynomial regression model\n",
    "        model = LinearRegression()\n",
    "        model.fit(X_train, y_train)\n",
    "\n",
    "        # Make predictions on the test set\n",
    "        y_pred = model.predict(X_test)\n",
    "\n",
    "        # Calculate variance and Bias^2 for this fold\n",
    "        variance = np.mean((np.mean(y_pred)-(y_pred))**2)\n",
    "        bias2 = np.mean(((np.mean(y_pred)- y_test)) ** 2)\n",
    "        \n",
    "        # Append results to lists\n",
    "        variance_list.append(variance)\n",
    "        bais2s_list.append(bias2)\n",
    "        total_error.append(bias2+variance)\n",
    "        models_list.append(model)\n",
    "\n",
    "        # Print results  including variance, Bias^2 and the total_error for this fold. \n",
    "        print(\"Variance: {:.4f}, Bias2: {:.4f}, Total error: {:.4f}\".format(variance, bias2, bias2 + variance))\n",
    "\n",
    "    # print the total_error of the best model\n",
    "    min_error_index = np.argmin(total_error)\n",
    "    best_model = models[min_error_index]\n",
    "    print(\"total: error{:4f}\".format(min_error_index))\n",
    "\n",
    "    # Testing the final model on the test data\n",
    "    X_train, X_test, y_train, y_test = train_test_split(X_poly, y, test_size=test_size, random_state=42)\n",
    "    # Obtain the predictions on the test data\n",
    "    # TODO\n",
    "    \n",
    "    # store mse score of the model applied on the test data\n",
    "    # TODO can use .mse()\n",
    "    \n",
    "\n",
    "    return mse , best_model\n",
    "\n",
    "\n",
    "\n",
    "\n",
    "\n",
    "\n",
    "# Example usage: load California Housing Dataset and select the first, third, and forth attributes as input features in X\n",
    "# TODO\n",
    "data = fetch_california_housing()\n",
    "\n",
    "\n",
    "\n",
    "# Set the target valiable -- what goes into y, ie what we have to predict. \n",
    "\n",
    "\n",
    "# TODO\n",
    "\n",
    "degrees = range(1, 6)  # Try polynomial degrees from 1 to 5\n",
    "# Try degrees from 1 to 5 and in a loop, report mse of the best model trained using k-fold cross validation and print(\"Degree:\", degree, \"MSE:\", mse)\n",
    "# TODO\n"
   ]
  },
  {
   "cell_type": "markdown",
   "id": "8ed6024d-1023-4c9b-abae-28b2528b3306",
   "metadata": {},
   "source": [
    "#ANALYSIS\n",
    "Analyse the results of model performance according to different degrees of polynomial and the number of folds used.\n",
    "You can manipulate the code and share your analysis in terms of the performance of the model (mse and total error), \n",
    "such as for instnace which degree of the model complexity (in relation to the polynomial order) would give a better model? \n",
    "Feel free to include other analysis about the generated models in relation to their performance results. \n",
    "You can event plot the results to support your analysis. \n",
    "\n"
   ]
  },
  {
   "cell_type": "code",
   "execution_count": null,
   "id": "76490c7d-b300-42ce-9036-f20294389b5f",
   "metadata": {},
   "outputs": [],
   "source": []
  },
  {
   "cell_type": "code",
   "execution_count": null,
   "id": "7fc36ba8-56b8-4d20-803c-62a953e524dd",
   "metadata": {},
   "outputs": [],
   "source": []
  }
 ],
 "metadata": {
  "kernelspec": {
   "display_name": "Python 3 (ipykernel)",
   "language": "python",
   "name": "python3"
  },
  "language_info": {
   "codemirror_mode": {
    "name": "ipython",
    "version": 3
   },
   "file_extension": ".py",
   "mimetype": "text/x-python",
   "name": "python",
   "nbconvert_exporter": "python",
   "pygments_lexer": "ipython3",
   "version": "3.12.4"
  }
 },
 "nbformat": 4,
 "nbformat_minor": 5
}
