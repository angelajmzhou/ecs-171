{
 "cells": [
  {
   "cell_type": "markdown",
   "id": "77e7459a",
   "metadata": {},
   "source": [
    "## Lab5 (Optional)\n",
    "In this lab, you are expected to study the provided code below which uses a dummy dataset to create three classifiers using Decision Trees, Bagged-Decision Trees, and Random Forests. \n",
    "\n",
    "In Bagged-Decision Trees and Random Forest models, the parameter n_estimators indicates the number of decision trees. Also, in Random Forests, parameter max_features is used to randomize the features. \n",
    "\n",
    "Manipulate the above-mentioned parameters and find out which value would prevent overfitting the model? Also, using the last plot, based on your manipulation, which feature(s) show to be more important? Do research to find out how feature importance is calculated in the Random Forest model and what does it indicate? Explain the role of feature importance in Ranforest Models."
   ]
  },
  {
   "cell_type": "code",
   "execution_count": 46,
   "id": "e1eb2042",
   "metadata": {},
   "outputs": [
    {
     "name": "stdout",
     "output_type": "stream",
     "text": [
      "3\n",
      "   Feature1  Feature2  Feature3  Target\n",
      "0       2.5       3.1       1.2       0\n",
      "1       1.0       2.3       3.3       1\n",
      "2       3.3       4.4       2.1       0\n",
      "3       1.5       2.8       3.6       1\n",
      "4       3.0       3.5       1.8       0\n"
     ]
    }
   ],
   "source": [
    "import pandas as pd\n",
    "\n",
    "# Load the dataset\n",
    "df = pd.read_csv('small_dataset.csv')\n",
    "\n",
    "#Print the number of input features\n",
    "n_features = df.shape[1] - 1\n",
    "\n",
    "print(n_features)\n",
    "# Display the first few rows\n",
    "print(df.head())\n"
   ]
  },
  {
   "cell_type": "code",
   "execution_count": 47,
   "id": "3eb487e9",
   "metadata": {},
   "outputs": [
    {
     "name": "stdout",
     "output_type": "stream",
     "text": [
      "Single Decision Tree Accuracy: 0.67| max_features = log2\n",
      "Single Decision Tree Accuracy: 0.67| max_features = sqrt\n",
      "Single Decision Tree Accuracy: 0.67| max_features = None\n",
      "Single Decision Tree Accuracy: 0.67| max_features = 1\n",
      "Single Decision Tree Accuracy: 0.67| max_features = 2\n",
      "Single Decision Tree Accuracy: 0.67| max_features = 3\n"
     ]
    }
   ],
   "source": [
    "from sklearn.model_selection import train_test_split\n",
    "from sklearn.tree import DecisionTreeClassifier\n",
    "from sklearn.metrics import accuracy_score\n",
    "from sklearn.metrics import explained_variance_score\n",
    "\n",
    "# Split the data into features and target\n",
    "X = df.drop('Target', axis=1)\n",
    "y = df['Target']\n",
    "\n",
    "# Perform train-test split\n",
    "X_train, X_test, y_train, y_test = train_test_split(X, y, test_size=0.3, random_state=42)\n",
    "\n",
    "num_features_list = ['log2', 'sqrt', None, 1, 2, 3]\n",
    "\n",
    "decision_tree_max = 0;\n",
    "# Train a single decision tree\n",
    "for param in num_features_list:\n",
    "    tree = DecisionTreeClassifier(random_state=42, max_features = param)\n",
    "    tree.fit(X_train, y_train)\n",
    "    \n",
    "    # Predict and evaluate\n",
    "    y_pred_tree = tree.predict(X_test)\n",
    "    accuracy_tree = accuracy_score(y_test, y_pred_tree)\n",
    "    if accuracy_tree > decision_tree_max:\n",
    "        decision_tree_max = accuracy_tree\n",
    "    print(f'Single Decision Tree Accuracy: {accuracy_tree:.2f}| max_features = {str(param)}')\n"
   ]
  },
  {
   "cell_type": "markdown",
   "id": "efa277b3-c759-41ef-970b-8dc90e639641",
   "metadata": {},
   "source": [
    "Based on the above code, all of the max_features values possible are equally helpful in preventing overfitting, as they all lead to the same accuracy."
   ]
  },
  {
   "cell_type": "code",
   "execution_count": 48,
   "id": "2cf35d27",
   "metadata": {},
   "outputs": [
    {
     "name": "stdout",
     "output_type": "stream",
     "text": [
      "Bagged Decision Trees Accuracy: 1.00| n_estimators = 1\n",
      "Bagged Decision Trees Accuracy: 0.67| n_estimators = 2\n",
      "Bagged Decision Trees Accuracy: 0.67| n_estimators = 3\n",
      "Bagged Decision Trees Accuracy: 0.67| n_estimators = 4\n",
      "Bagged Decision Trees Accuracy: 1.00| n_estimators = 5\n",
      "Bagged Decision Trees Accuracy: 1.00| n_estimators = 6\n",
      "Bagged Decision Trees Accuracy: 1.00| n_estimators = 7\n",
      "Bagged Decision Trees Accuracy: 1.00| n_estimators = 8\n",
      "Bagged Decision Trees Accuracy: 1.00| n_estimators = 9\n",
      "Bagged Decision Trees Accuracy: 0.67| n_estimators = 10\n",
      "Bagged Decision Trees Accuracy: 1.00| n_estimators = 11\n",
      "Bagged Decision Trees Accuracy: 0.67| n_estimators = 12\n",
      "Bagged Decision Trees Accuracy: 0.67| n_estimators = 13\n",
      "Bagged Decision Trees Accuracy: 0.67| n_estimators = 14\n"
     ]
    },
    {
     "name": "stderr",
     "output_type": "stream",
     "text": [
      "/opt/anaconda3/envs/myenv/lib/python3.8/site-packages/sklearn/ensemble/_base.py:156: FutureWarning: `base_estimator` was renamed to `estimator` in version 1.2 and will be removed in 1.4.\n",
      "  warnings.warn(\n",
      "/opt/anaconda3/envs/myenv/lib/python3.8/site-packages/sklearn/ensemble/_base.py:156: FutureWarning: `base_estimator` was renamed to `estimator` in version 1.2 and will be removed in 1.4.\n",
      "  warnings.warn(\n",
      "/opt/anaconda3/envs/myenv/lib/python3.8/site-packages/sklearn/ensemble/_base.py:156: FutureWarning: `base_estimator` was renamed to `estimator` in version 1.2 and will be removed in 1.4.\n",
      "  warnings.warn(\n",
      "/opt/anaconda3/envs/myenv/lib/python3.8/site-packages/sklearn/ensemble/_base.py:156: FutureWarning: `base_estimator` was renamed to `estimator` in version 1.2 and will be removed in 1.4.\n",
      "  warnings.warn(\n",
      "/opt/anaconda3/envs/myenv/lib/python3.8/site-packages/sklearn/ensemble/_base.py:156: FutureWarning: `base_estimator` was renamed to `estimator` in version 1.2 and will be removed in 1.4.\n",
      "  warnings.warn(\n",
      "/opt/anaconda3/envs/myenv/lib/python3.8/site-packages/sklearn/ensemble/_base.py:156: FutureWarning: `base_estimator` was renamed to `estimator` in version 1.2 and will be removed in 1.4.\n",
      "  warnings.warn(\n",
      "/opt/anaconda3/envs/myenv/lib/python3.8/site-packages/sklearn/ensemble/_base.py:156: FutureWarning: `base_estimator` was renamed to `estimator` in version 1.2 and will be removed in 1.4.\n",
      "  warnings.warn(\n",
      "/opt/anaconda3/envs/myenv/lib/python3.8/site-packages/sklearn/ensemble/_base.py:156: FutureWarning: `base_estimator` was renamed to `estimator` in version 1.2 and will be removed in 1.4.\n",
      "  warnings.warn(\n",
      "/opt/anaconda3/envs/myenv/lib/python3.8/site-packages/sklearn/ensemble/_base.py:156: FutureWarning: `base_estimator` was renamed to `estimator` in version 1.2 and will be removed in 1.4.\n",
      "  warnings.warn(\n",
      "/opt/anaconda3/envs/myenv/lib/python3.8/site-packages/sklearn/ensemble/_base.py:156: FutureWarning: `base_estimator` was renamed to `estimator` in version 1.2 and will be removed in 1.4.\n",
      "  warnings.warn(\n",
      "/opt/anaconda3/envs/myenv/lib/python3.8/site-packages/sklearn/ensemble/_base.py:156: FutureWarning: `base_estimator` was renamed to `estimator` in version 1.2 and will be removed in 1.4.\n",
      "  warnings.warn(\n",
      "/opt/anaconda3/envs/myenv/lib/python3.8/site-packages/sklearn/ensemble/_base.py:156: FutureWarning: `base_estimator` was renamed to `estimator` in version 1.2 and will be removed in 1.4.\n",
      "  warnings.warn(\n",
      "/opt/anaconda3/envs/myenv/lib/python3.8/site-packages/sklearn/ensemble/_base.py:156: FutureWarning: `base_estimator` was renamed to `estimator` in version 1.2 and will be removed in 1.4.\n",
      "  warnings.warn(\n",
      "/opt/anaconda3/envs/myenv/lib/python3.8/site-packages/sklearn/ensemble/_base.py:156: FutureWarning: `base_estimator` was renamed to `estimator` in version 1.2 and will be removed in 1.4.\n",
      "  warnings.warn(\n"
     ]
    }
   ],
   "source": [
    "from sklearn.ensemble import BaggingClassifier\n",
    "bag_max = 0\n",
    "# Create a bagged decision tree model\n",
    "for n in range (1,15,1):\n",
    "    bagged_tree = BaggingClassifier(base_estimator=DecisionTreeClassifier(), n_estimators=n, random_state=42)\n",
    "    bagged_tree.fit(X_train, y_train)\n",
    "    # Predict and evaluate\n",
    "    y_pred_bagged = bagged_tree.predict(X_test)\n",
    "    accuracy_bagged = accuracy_score(y_test, y_pred_bagged)\n",
    "    if accuracy_bagged > bag_max:\n",
    "        bag_max = accuracy_bagged\n",
    "    print(f'Bagged Decision Trees Accuracy: {accuracy_bagged:.2f}| n_estimators = {str(n)}')\n"
   ]
  },
  {
   "cell_type": "markdown",
   "id": "72907de4-3909-4c8e-9707-b2cdf98f1f63",
   "metadata": {},
   "source": [
    "Based on the above code, a n_estimators vale of 1 is best as preventing overfitting, as it has a 100% accuracy score and is also the least complicated model."
   ]
  },
  {
   "cell_type": "code",
   "execution_count": 53,
   "id": "2dd08846",
   "metadata": {},
   "outputs": [
    {
     "name": "stdout",
     "output_type": "stream",
     "text": [
      "Random Forest Accuracy: 0.33| n_estimators = 1\n",
      "Random Forest Accuracy: 0.33| n_estimators = 2\n",
      "Random Forest Accuracy: 0.67| n_estimators = 3\n",
      "Random Forest Accuracy: 0.67| n_estimators = 4\n",
      "Random Forest Accuracy: 1.00| n_estimators = 5\n",
      "Random Forest Accuracy: 1.00| n_estimators = 6\n",
      "Random Forest Accuracy: 1.00| n_estimators = 7\n",
      "Random Forest Accuracy: 0.67| n_estimators = 8\n",
      "Random Forest Accuracy: 1.00| n_estimators = 9\n",
      "Random Forest Accuracy: 0.67| n_estimators = 10\n",
      "Random Forest Accuracy: 0.67| n_estimators = 11\n"
     ]
    }
   ],
   "source": [
    "from sklearn.ensemble import RandomForestClassifier\n",
    "import math\n",
    "rf_max = 0\n",
    "for n in range(1,12,1):\n",
    "\n",
    "    random_forest = RandomForestClassifier(max_features =math.ceil(math.sqrt(n_features)) , n_estimators=n, random_state=42)\n",
    "    random_forest.fit(X_train, y_train)\n",
    "    \n",
    "    # Predict and evaluate\n",
    "    y_pred_rf = random_forest.predict(X_test)\n",
    "    accuracy_rf = accuracy_score(y_test, y_pred_rf)\n",
    "    if accuracy_rf > rf_max:\n",
    "        rf_max = accuracy_rf\n",
    "    print(f'Random Forest Accuracy: {accuracy_rf:.2f}| n_estimators = {str(n)}')\n",
    "\n",
    "\n",
    "random_forest = RandomForestClassifier(max_features =math.ceil(math.sqrt(n_features)) , n_estimators=5, random_state=42)\n",
    "random_forest.fit(X_train, y_train)\n",
    "    \n",
    "# Predict and evaluate\n",
    "y_pred_rf = random_forest.predict(X_test)\n"
   ]
  },
  {
   "cell_type": "markdown",
   "id": "b77eab52-2fbb-4611-ab94-7c12ef9265b4",
   "metadata": {},
   "source": [
    "Based on the above code, a n_estimators value of 5 is best as preventing overfitting, as it has a 100% accuracy score and is also the least complicated model with 100% accuracy."
   ]
  },
  {
   "cell_type": "code",
   "execution_count": 50,
   "id": "59968660",
   "metadata": {},
   "outputs": [
    {
     "name": "stdout",
     "output_type": "stream",
     "text": [
      "Comparison of Model Accuracies:\n",
      "Single Decision Tree Accuracy: 0.67\n",
      "Bagged Decision Trees Accuracy: 1.00\n",
      "Random Forest Accuracy: 1.00\n"
     ]
    }
   ],
   "source": [
    "print(\"Comparison of Model Accuracies:\")\n",
    "print(f'Single Decision Tree Accuracy: {decision_tree_max:.2f}')\n",
    "print(f'Bagged Decision Trees Accuracy: {bag_max:.2f}')\n",
    "print(f'Random Forest Accuracy: {rf_max:.2f}')\n",
    "\n",
    "# Discuss the results\n"
   ]
  },
  {
   "cell_type": "code",
   "execution_count": 54,
   "id": "42e869ae",
   "metadata": {},
   "outputs": [
    {
     "data": {
      "image/png": "[encoded data removed]",
      "text/plain": [
       "<Figure size 1000x600 with 1 Axes>"
      ]
     },
     "metadata": {},
     "output_type": "display_data"
    }
   ],
   "source": [
    "import matplotlib.pyplot as plt\n",
    "import seaborn as sns\n",
    "\n",
    "# Extract feature importances from the Random Forest model\n",
    "feature_importances = random_forest.feature_importances_\n",
    "features = X.columns\n",
    "\n",
    "# Create a DataFrame for plotting\n",
    "importance_df = pd.DataFrame({'Feature': features, 'Importance': feature_importances})\n",
    "importance_df = importance_df.sort_values(by='Importance', ascending=False)\n",
    "\n",
    "# Plot the feature importances\n",
    "plt.figure(figsize=(10, 6))\n",
    "sns.barplot(x='Importance', y='Feature', data=importance_df)\n",
    "plt.title('Feature Importances from Random Forest')\n",
    "plt.show()\n"
   ]
  },
  {
   "cell_type": "markdown",
   "id": "20866e19-9e8d-4b9b-9a38-27ea6aa06f29",
   "metadata": {},
   "source": [
    "Based on my updated code, with n_estimators = 5, the most important feature is feature 3.\n",
    "Feature importance is computed as the (normalized) total reduction of the criterion brought by that feature -- i.e. how much a feature contributes to reducing prediction error. It is also known as the Gini importance, which measures total decrease in Gini impurity brought by a feature across all trees and splits. Features leading to better splits closer to the root of the tree are more important.\n",
    "High importance indicates that a feature significantly impacs model decisions and predictive accuracy, making them worth investigating further (and vice versa for features with low importance).\n",
    "Low importance features can be removed to remove noise, simplifying the model and reducing overfitting."
   ]
  },
  {
   "cell_type": "code",
   "execution_count": null,
   "id": "7946609d-d70b-43e7-a216-bdc6e7f8c806",
   "metadata": {},
   "outputs": [],
   "source": []
  }
 ],
 "metadata": {
  "kernelspec": {
   "display_name": "Python 3 (ipykernel)",
   "language": "python",
   "name": "python3"
  },
  "language_info": {
   "codemirror_mode": {
    "name": "ipython",
    "version": 3
   },
   "file_extension": ".py",
   "mimetype": "text/x-python",
   "name": "python",
   "nbconvert_exporter": "python",
   "pygments_lexer": "ipython3",
   "version": "3.8.18"
  }
 },
 "nbformat": 4,
 "nbformat_minor": 5
}
