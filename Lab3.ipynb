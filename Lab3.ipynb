{
 "cells": [
  {
   "cell_type": "markdown",
   "id": "637620a3",
   "metadata": {},
   "source": [
    "Lab3: This lab activity has 3 parts. Use the provided information below to answer the questions. \n",
    "\n",
    "![Generated Dataset](lab3.jpg)\n",
    "![Generated Dataset](lab3-1.jpg)\n",
    "![Generated Dataset](lab3-2.jpg)\n",
    "![Generated Dataset](lab3-3.jpg)\n",
    "- Part1) Mathematically provide the formulation for performing a Full-pass for the first mini-batch of data. \n",
    "- Part2) Provide the mathematical formulation and pseudo-computation for the weight changes at each layer of the model during backpropagation and indicate the notations for the updated weights. \n",
    "- Part3) Assume you have completed 1 epoch of training. How do you compute the error of your model after completing 1 epoch on training and testing data (separately)? Provide a pseudocode to describe your algorithm for reporting the training and testing error after each epoch to investigate when the model converges (after how many epochs). \n",
    "\n"
   ]
  },
  {
   "cell_type": "code",
   "execution_count": null,
   "id": "bbc2a5a4",
   "metadata": {},
   "outputs": [],
   "source": []
  }
 ],
 "metadata": {
  "kernelspec": {
   "display_name": "Python 3",
   "language": "python",
   "name": "python3"
  },
  "language_info": {
   "codemirror_mode": {
    "name": "ipython",
    "version": 3
   },
   "file_extension": ".py",
   "mimetype": "text/x-python",
   "name": "python",
   "nbconvert_exporter": "python",
   "pygments_lexer": "ipython3",
   "version": "3.8.8"
  }
 },
 "nbformat": 4,
 "nbformat_minor": 5
}
